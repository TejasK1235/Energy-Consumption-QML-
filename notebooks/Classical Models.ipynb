{
 "cells": [
  {
   "cell_type": "code",
   "execution_count": 1,
   "id": "e06806c6-2067-4e96-a12c-468b4dddf6ae",
   "metadata": {},
   "outputs": [],
   "source": [
    "import numpy as np\n",
    "import pandas as pd\n",
    "from sklearn.pipeline import Pipeline\n",
    "from sklearn.compose import ColumnTransformer\n",
    "from sklearn.preprocessing import StandardScaler, MinMaxScaler, OneHotEncoder\n",
    "from sklearn.impute import SimpleImputer\n",
    "from sklearn.linear_model import LinearRegression, Ridge, Lasso, ElasticNet\n",
    "from sklearn.ensemble import RandomForestRegressor, GradientBoostingRegressor\n",
    "from sklearn.svm import SVR\n",
    "from sklearn.neighbors import KNeighborsRegressor\n",
    "from sklearn.tree import DecisionTreeRegressor\n",
    "from sklearn.model_selection import train_test_split, cross_val_score, GridSearchCV, RandomizedSearchCV"
   ]
  },
  {
   "cell_type": "code",
   "execution_count": 2,
   "id": "49570e89-5ae0-4622-a807-874ae8e0c096",
   "metadata": {},
   "outputs": [],
   "source": [
    "df = pd.read_csv('cleaned.csv')"
   ]
  },
  {
   "cell_type": "code",
   "execution_count": 3,
   "id": "87083305-68a7-4296-a7a9-73745d6c0267",
   "metadata": {},
   "outputs": [],
   "source": [
    "X = df.drop(columns=['primary_energy_consumption'])\n",
    "y = df['primary_energy_consumption']"
   ]
  },
  {
   "cell_type": "code",
   "execution_count": 4,
   "id": "1b823f39-7cc2-4646-9c36-bfc33721ad91",
   "metadata": {},
   "outputs": [],
   "source": [
    "X_train, X_test, y_train, y_test = train_test_split(X, y, test_size=0.2, random_state=42)"
   ]
  },
  {
   "cell_type": "code",
   "execution_count": null,
   "id": "db97fbee-59a2-40e1-b934-e133dd315bcb",
   "metadata": {},
   "outputs": [],
   "source": []
  },
  {
   "cell_type": "code",
   "execution_count": 5,
   "id": "af5a86fb-e658-4831-9c25-8374a3871b02",
   "metadata": {},
   "outputs": [],
   "source": [
    "preprocessor = Pipeline([\n",
    "    ('imputer', SimpleImputer(strategy='mean')),\n",
    "    ('scaler', StandardScaler())\n",
    "])"
   ]
  },
  {
   "cell_type": "code",
   "execution_count": 7,
   "id": "ddc604dc-96ed-43d4-9ba7-72b121738eef",
   "metadata": {},
   "outputs": [],
   "source": [
    "param_grid = {\n",
    "    \"Linear Regression\": {\n",
    "        \"model\": LinearRegression(),\n",
    "        \"params\": {}\n",
    "    },\n",
    "    \"KNN\": {\n",
    "        \"model\": KNeighborsRegressor(),\n",
    "        \"params\": {\"model__n_neighbors\": [3, 5, 7]}\n",
    "    },\n",
    "    \"Decision Tree\": {\n",
    "        \"model\": DecisionTreeRegressor(),\n",
    "        \"params\": {\"model__max_depth\": [5, 10]}\n",
    "    },\n",
    "    \"Random Forest\": {\n",
    "        \"model\": RandomForestRegressor(),\n",
    "        \"params\": {\"model__n_estimators\": [10, 50], \"model__max_depth\": [5, 10]}\n",
    "    },\n",
    "    \"Gradient Boosting\": {\n",
    "        \"model\": GradientBoostingRegressor(),\n",
    "        \"params\": {\"model__n_estimators\": [10, 50], \"model__learning_rate\": [0.05, 0.1]}\n",
    "    },\n",
    "    \"SVR\": {\n",
    "    \"model\": SVR(),\n",
    "    \"params\": {\n",
    "        \"model__C\": [0.1, 1, 10], \n",
    "        \"model__kernel\": [\"linear\", \"rbf\"]\n",
    "        }\n",
    "    }\n",
    "}"
   ]
  },
  {
   "cell_type": "code",
   "execution_count": 8,
   "id": "46505692-db2d-402b-a360-e466348dfce2",
   "metadata": {},
   "outputs": [
    {
     "name": "stdout",
     "output_type": "stream",
     "text": [
      "Training Linear Regression...\n"
     ]
    },
    {
     "name": "stderr",
     "output_type": "stream",
     "text": [
      "C:\\Users\\tejas\\AppData\\Local\\Packages\\PythonSoftwareFoundation.Python.3.11_qbz5n2kfra8p0\\LocalCache\\local-packages\\Python311\\site-packages\\sklearn\\model_selection\\_search.py:317: UserWarning: The total space of parameters 1 is smaller than n_iter=3. Running 1 iterations. For exhaustive searches, use GridSearchCV.\n",
      "  warnings.warn(\n"
     ]
    },
    {
     "name": "stdout",
     "output_type": "stream",
     "text": [
      "Best Params for Linear Regression: {}\n",
      "R² Score: -827.5355\n",
      "\n",
      "Training KNN...\n",
      "Best Params for KNN: {'model__n_neighbors': 3}\n",
      "R² Score: 0.9088\n",
      "\n",
      "Training Decision Tree...\n"
     ]
    },
    {
     "name": "stderr",
     "output_type": "stream",
     "text": [
      "C:\\Users\\tejas\\AppData\\Local\\Packages\\PythonSoftwareFoundation.Python.3.11_qbz5n2kfra8p0\\LocalCache\\local-packages\\Python311\\site-packages\\sklearn\\model_selection\\_search.py:317: UserWarning: The total space of parameters 2 is smaller than n_iter=3. Running 2 iterations. For exhaustive searches, use GridSearchCV.\n",
      "  warnings.warn(\n"
     ]
    },
    {
     "name": "stdout",
     "output_type": "stream",
     "text": [
      "Best Params for Decision Tree: {'model__max_depth': 10}\n",
      "R² Score: 0.8982\n",
      "\n",
      "Training Random Forest...\n",
      "Best Params for Random Forest: {'model__n_estimators': 50, 'model__max_depth': 10}\n",
      "R² Score: 0.9255\n",
      "\n",
      "Training Gradient Boosting...\n",
      "Best Params for Gradient Boosting: {'model__n_estimators': 50, 'model__learning_rate': 0.1}\n",
      "R² Score: 0.8394\n",
      "\n",
      "Training SVR...\n",
      "Best Params for SVR: {'model__kernel': 'rbf', 'model__C': 10}\n",
      "R² Score: 0.7422\n",
      "\n"
     ]
    }
   ],
   "source": [
    "best_models = {}\n",
    "for name, config in param_grid.items():\n",
    "    print(f\"Training {name}...\")\n",
    "\n",
    "    pipeline = Pipeline([\n",
    "        ('preprocessor', preprocessor),\n",
    "        ('model', config['model'])\n",
    "    ])\n",
    "\n",
    "    search = RandomizedSearchCV(\n",
    "        pipeline, config['params'], n_iter=3, scoring='neg_mean_squared_error', cv=3, n_jobs=-1, random_state=42\n",
    "    )\n",
    "\n",
    "    search.fit(X_train, y_train)\n",
    "    best_models[name] = search.best_estimator_\n",
    "    \n",
    "    r2_score = cross_val_score(search.best_estimator_, X_train, y_train, scoring='r2', cv=3).mean()\n",
    "\n",
    "    print(f\"Best Params for {name}: {search.best_params_}\")\n",
    "    print(f\"R² Score: {r2_score:.4f}\\n\")"
   ]
  },
  {
   "cell_type": "code",
   "execution_count": 10,
   "id": "ee0ae9ed-0c8a-471d-8c84-7fb389a951b3",
   "metadata": {},
   "outputs": [
    {
     "name": "stdout",
     "output_type": "stream",
     "text": [
      "Linear Regression Test R² Score: 0.5698\n",
      "KNN Test R² Score: 0.9217\n",
      "Decision Tree Test R² Score: 0.9133\n",
      "Random Forest Test R² Score: 0.9409\n",
      "Gradient Boosting Test R² Score: 0.8502\n",
      "SVR Test R² Score: 0.8007\n"
     ]
    }
   ],
   "source": [
    "for name, model in best_models.items():\n",
    "    test_score = model.score(X_test, y_test)\n",
    "    print(f\"{name} Test R² Score: {test_score:.4f}\")"
   ]
  },
  {
   "cell_type": "code",
   "execution_count": null,
   "id": "3b38eb48-cf16-4d4e-9710-c4262a478a8c",
   "metadata": {},
   "outputs": [],
   "source": []
  },
  {
   "cell_type": "code",
   "execution_count": null,
   "id": "0440678b-ea5d-42de-83e2-d898f2c237fa",
   "metadata": {},
   "outputs": [],
   "source": []
  }
 ],
 "metadata": {
  "kernelspec": {
   "display_name": "Python 3 (ipykernel)",
   "language": "python",
   "name": "python3"
  },
  "language_info": {
   "codemirror_mode": {
    "name": "ipython",
    "version": 3
   },
   "file_extension": ".py",
   "mimetype": "text/x-python",
   "name": "python",
   "nbconvert_exporter": "python",
   "pygments_lexer": "ipython3",
   "version": "3.11.9"
  }
 },
 "nbformat": 4,
 "nbformat_minor": 5
}
