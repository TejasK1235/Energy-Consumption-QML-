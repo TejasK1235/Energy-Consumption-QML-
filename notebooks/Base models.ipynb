{
 "cells": [
  {
   "cell_type": "code",
   "execution_count": 6,
   "id": "9d71e087-c027-4c18-8815-8b1300fac1dd",
   "metadata": {},
   "outputs": [],
   "source": [
    "import numpy as np\n",
    "import pandas as pd\n",
    "from sklearn.pipeline import Pipeline\n",
    "from sklearn.compose import ColumnTransformer\n",
    "from sklearn.preprocessing import StandardScaler, MinMaxScaler, OneHotEncoder\n",
    "from sklearn.impute import SimpleImputer\n",
    "from sklearn.linear_model import LinearRegression, Ridge, Lasso, ElasticNet\n",
    "from sklearn.ensemble import RandomForestRegressor, GradientBoostingRegressor\n",
    "from sklearn.svm import SVR\n",
    "from sklearn.neighbors import KNeighborsRegressor\n",
    "from sklearn.tree import DecisionTreeRegressor\n",
    "from sklearn.model_selection import train_test_split, cross_val_score"
   ]
  },
  {
   "cell_type": "code",
   "execution_count": 7,
   "id": "8c0ed0c7-0a5f-4b68-983b-502a156ae108",
   "metadata": {},
   "outputs": [],
   "source": [
    "df = pd.read_csv('cleaned.csv')"
   ]
  },
  {
   "cell_type": "code",
   "execution_count": 8,
   "id": "722b0c84-e3e9-4140-9bda-28beac4b652a",
   "metadata": {},
   "outputs": [],
   "source": [
    "X = df.drop(columns=[\"primary_energy_consumption\"])\n",
    "y = df[\"primary_energy_consumption\"]\n",
    "\n",
    "X_train, X_test, y_train, y_test = train_test_split(X, y, test_size=0.2, random_state=42)\n",
    "\n",
    "models = {\n",
    "    \"Linear Regression\": LinearRegression(),\n",
    "    \"Lasso Regression\": Lasso(),\n",
    "    \"Ridge Regression\": Ridge(),\n",
    "    \"ElasticNet Regression\": ElasticNet(),\n",
    "    \"SVR\": SVR(),\n",
    "    \"KNN Regressor\": KNeighborsRegressor(),\n",
    "    \"Decision Tree Regressor\": DecisionTreeRegressor()\n",
    "}"
   ]
  },
  {
   "cell_type": "code",
   "execution_count": 9,
   "id": "0ff0a619-2500-414b-ae6f-8ae267439c66",
   "metadata": {},
   "outputs": [],
   "source": [
    "from sklearn.metrics import mean_absolute_error, mean_squared_error, r2_score"
   ]
  },
  {
   "cell_type": "code",
   "execution_count": 10,
   "id": "6752a7f8-f323-4367-8359-92d2308dc518",
   "metadata": {},
   "outputs": [
    {
     "name": "stdout",
     "output_type": "stream",
     "text": [
      "Linear Regression Results:\n",
      "   - MAE: 0.2633\n",
      "   - RMSE: 0.6445\n",
      "   - R² Score: 0.5698\n",
      "----------------------------------------\n",
      "Lasso Regression Results:\n",
      "   - MAE: 0.4312\n",
      "   - RMSE: 0.9825\n",
      "   - R² Score: 0.0003\n",
      "----------------------------------------\n",
      "Ridge Regression Results:\n",
      "   - MAE: 0.2633\n",
      "   - RMSE: 0.6445\n",
      "   - R² Score: 0.5698\n",
      "----------------------------------------\n",
      "ElasticNet Regression Results:\n",
      "   - MAE: 0.3942\n",
      "   - RMSE: 0.8995\n",
      "   - R² Score: 0.1620\n",
      "----------------------------------------\n",
      "SVR Results:\n",
      "   - MAE: 0.3124\n",
      "   - RMSE: 0.9967\n",
      "   - R² Score: -0.0289\n",
      "----------------------------------------\n",
      "KNN Regressor Results:\n",
      "   - MAE: 0.0195\n",
      "   - RMSE: 0.1111\n",
      "   - R² Score: 0.9872\n",
      "----------------------------------------\n",
      "Decision Tree Regressor Results:\n",
      "   - MAE: 0.0237\n",
      "   - RMSE: 0.1617\n",
      "   - R² Score: 0.9729\n",
      "----------------------------------------\n"
     ]
    }
   ],
   "source": [
    "for name, model in models.items():\n",
    "    model.fit(X_train, y_train) \n",
    "    y_pred = model.predict(X_test) \n",
    "    \n",
    "    mae = mean_absolute_error(y_test, y_pred)\n",
    "    mse = mean_squared_error(y_test, y_pred)\n",
    "    rmse = np.sqrt(mse)\n",
    "    r2 = r2_score(y_test, y_pred)\n",
    "    \n",
    "    print(f\"{name} Results:\")\n",
    "    print(f\"   - MAE: {mae:.4f}\")\n",
    "    print(f\"   - RMSE: {rmse:.4f}\")\n",
    "    print(f\"   - R² Score: {r2:.4f}\")\n",
    "    print(\"-\" * 40)"
   ]
  },
  {
   "cell_type": "code",
   "execution_count": null,
   "id": "db1c034a-754f-475d-be3d-647bc9320cad",
   "metadata": {},
   "outputs": [],
   "source": []
  }
 ],
 "metadata": {
  "kernelspec": {
   "display_name": "Python 3 (ipykernel)",
   "language": "python",
   "name": "python3"
  },
  "language_info": {
   "codemirror_mode": {
    "name": "ipython",
    "version": 3
   },
   "file_extension": ".py",
   "mimetype": "text/x-python",
   "name": "python",
   "nbconvert_exporter": "python",
   "pygments_lexer": "ipython3",
   "version": "3.11.9"
  }
 },
 "nbformat": 4,
 "nbformat_minor": 5
}
